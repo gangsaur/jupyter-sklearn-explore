{
 "cells": [
  {
   "cell_type": "markdown",
   "metadata": {},
   "source": [
    "<img src=\"https://scontent-sin6-2.xx.fbcdn.net/v/t1.0-9/10568868_4371370818520_2644688925685876233_n.jpg?_nc_eui2=v1%3AAeGrfap77OpgCCLIjBDyyrk38BYkXsJfdmzG6vQmcsmqPNyv_BaocIUwbjvpyAYA3vvZ8Nml8l9w8EAZ7xKDrzJsc3z4FRuMKiaVxRVpGYwOwA&oh=b1b9af086dd3fb2a969320123dce7e2d&oe=5A66F2E3\" width=\"150\" height=\"150\">\n",
    "<center> Ganteng <center>\n",
    "\n",
    "<img src=\"https://scontent-sin6-2.xx.fbcdn.net/v/t1.0-9/20663684_1356660797762965_9003853271414511443_n.jpg?_nc_eui2=v1%3AAeEz0x_IFsOHJiXnbnby5Mw5YYyrLxzjGDm2HBl6rVCx8q5ghhqE1AYKBwMCQzv79ANCs_hrJM5QNizc3lvixV43dxRBd0OdXmHmwkKaEDefyg&oh=eb8052efb0959c722f468801f7e891bf&oe=5A7EE7CD\" width=\"150\" height=\"150\">\n",
    "<center> Ganteng <center>"
   ]
  },
  {
   "cell_type": "markdown",
   "metadata": {},
   "source": [
    "# Import Necessary Library"
   ]
  },
  {
   "cell_type": "code",
   "execution_count": null,
   "metadata": {},
   "outputs": [],
   "source": [
    "from sklearn.datasets import load_iris\n",
    "from sklearn import tree\n",
    "from sklearn import neural_network\n",
    "from sklearn import model_selection\n",
    "from sklearn import metrics\n",
    "from sklearn.externals import joblib\n",
    "from pandas import read_csv\n",
    "from pandas import DataFrame\n",
    "from copy import deepcopy\n",
    "import graphviz"
   ]
  },
  {
   "cell_type": "markdown",
   "metadata": {},
   "source": [
    "# A - Read Dataset"
   ]
  },
  {
   "cell_type": "markdown",
   "metadata": {},
   "source": [
    "## Read Iris Dataset"
   ]
  },
  {
   "cell_type": "code",
   "execution_count": null,
   "metadata": {},
   "outputs": [],
   "source": [
    "iris = load_iris()\n",
    "iris.feature_names"
   ]
  },
  {
   "cell_type": "markdown",
   "metadata": {},
   "source": [
    "## Read Tennis Dataset"
   ]
  },
  {
   "cell_type": "code",
   "execution_count": null,
   "metadata": {},
   "outputs": [],
   "source": [
    "tennis = read_csv(\"./dataset/tennis.csv\")\n",
    "tennisData = tennis.drop('play', axis=1)\n",
    "tennisLabel = DataFrame(tennis.play)\n",
    "#Must be latter changed to numpy array to be used with sklearn"
   ]
  },
  {
   "cell_type": "markdown",
   "metadata": {},
   "source": [
    "# B - Full Train"
   ]
  },
  {
   "cell_type": "markdown",
   "metadata": {},
   "source": [
    "## DTL"
   ]
  },
  {
   "cell_type": "code",
   "execution_count": null,
   "metadata": {},
   "outputs": [],
   "source": [
    "clfDTL = tree.DecisionTreeClassifier()\n",
    "clfDTL.fit(iris.data, iris.target)\n",
    "dotData = tree.export_graphviz(clfDTL, out_file=None, feature_names=iris.feature_names, \n",
    "                               class_names = iris.target_names, filled=True)\n",
    "graph = graphviz.Source(dotData)\n",
    "graph"
   ]
  },
  {
   "cell_type": "markdown",
   "metadata": {},
   "source": [
    "## MLP"
   ]
  },
  {
   "cell_type": "code",
   "execution_count": null,
   "metadata": {},
   "outputs": [],
   "source": [
    "clfMLP = neural_network.MLPClassifier(solver='sgd', alpha=1e-5, hidden_layer_sizes=(5, 2), random_state=39, max_iter=2000)\n",
    "clfMLP.fit(iris.data, iris.target)\n",
    "#Visualize MLP if possible (unlikely)"
   ]
  },
  {
   "cell_type": "markdown",
   "metadata": {},
   "source": [
    "# C - Split Train"
   ]
  },
  {
   "cell_type": "markdown",
   "metadata": {},
   "source": [
    "## Split Data"
   ]
  },
  {
   "cell_type": "code",
   "execution_count": null,
   "metadata": {},
   "outputs": [],
   "source": [
    "irisTrainData, irisTestData, irisTrainLabel, irisTestLabel = model_selection.train_test_split(iris.data, iris.target,\n",
    "                                                                                              test_size=0.1, random_state=39)"
   ]
  },
  {
   "cell_type": "markdown",
   "metadata": {},
   "source": [
    "## Train and Test"
   ]
  },
  {
   "cell_type": "code",
   "execution_count": null,
   "metadata": {},
   "outputs": [],
   "source": [
    "clfDTL.fit(irisTrainData, irisTrainLabel)\n",
    "clfMLP.fit(irisTrainData, irisTrainLabel)\n",
    "DTLResult = clfDTL.predict(irisTestData)\n",
    "MLPResult = clfMLP.predict(irisTestData)"
   ]
  },
  {
   "cell_type": "markdown",
   "metadata": {},
   "source": [
    "## Print Confusion Matrix and Classification Report / Performance"
   ]
  },
  {
   "cell_type": "code",
   "execution_count": null,
   "metadata": {},
   "outputs": [],
   "source": [
    "print(metrics.confusion_matrix(DTLResult, irisTestLabel))\n",
    "print(metrics.confusion_matrix(MLPResult, irisTestLabel))\n",
    "print(metrics.classification_report(DTLResult, irisTestLabel))\n",
    "print(metrics.classification_report(MLPResult, irisTestLabel))"
   ]
  },
  {
   "cell_type": "markdown",
   "metadata": {},
   "source": [
    "# D - 10-Fold"
   ]
  },
  {
   "cell_type": "markdown",
   "metadata": {},
   "source": [
    "## Split, Find Best Model From k-Fold, Classify Whole Datasets"
   ]
  },
  {
   "cell_type": "code",
   "execution_count": null,
   "metadata": {},
   "outputs": [],
   "source": [
    "kf = model_selection.KFold(n_splits=10)\n",
    "maxAccuracyDTL = 0\n",
    "maxAccuracyMLP = 0\n",
    "index = 0\n",
    "for trainIndex, testIndex in kf.split(iris.data):\n",
    "    #Split\n",
    "    irisTrainData = iris.data[trainIndex]\n",
    "    irisTrainLabel = iris.target[trainIndex]\n",
    "    irisTestData = iris.data[testIndex]\n",
    "    iristTestLabel = iris.target[testIndex]\n",
    "    #Train\n",
    "    clfDTL.fit(irisTrainData, irisTrainLabel)\n",
    "    clfMLP.fit(irisTrainData, irisTrainLabel)\n",
    "    #Test\n",
    "    DTLResult = clfDTL.predict(irisTestData)\n",
    "    MLPResult = clfMLP.predict(irisTestData)\n",
    "    #Result\n",
    "    DTLScore = metrics.accuracy_score(DTLResult,irisTestLabel)\n",
    "    MLPScore = metrics.accuracy_score(MLPResult,irisTestLabel)\n",
    "    if (DTLScore > maxAccuracyDTL):\n",
    "        maxAccuracyDTL = DTLScore\n",
    "        bestDTL = deepcopy(clfDTL)\n",
    "    if (MLPScore > maxAccuracyMLP):\n",
    "        maxAccuracyMLP = MLPScore\n",
    "        bestMLP = deepcopy(clfMLP)\n",
    "    print(\"Fold: \" + str(index))\n",
    "    index += 1\n",
    "DTLResult = bestDTL.predict(iris.data)\n",
    "MLPResult = bestMLP.predict(iris.data)"
   ]
  },
  {
   "cell_type": "markdown",
   "metadata": {},
   "source": [
    "## Print Classification Report / Performance"
   ]
  },
  {
   "cell_type": "code",
   "execution_count": null,
   "metadata": {},
   "outputs": [],
   "source": [
    "print(metrics.classification_report(DTLResult, iris.target))\n",
    "print(metrics.classification_report(MLPResult, iris.target))"
   ]
  },
  {
   "cell_type": "markdown",
   "metadata": {},
   "source": [
    "# E - Save Model"
   ]
  },
  {
   "cell_type": "code",
   "execution_count": null,
   "metadata": {},
   "outputs": [],
   "source": [
    "joblib.dump(bestDTL,\"model/dtl.pkl\")\n",
    "joblib.dump(bestMLP,\"model/mlp.pkl\")"
   ]
  },
  {
   "cell_type": "markdown",
   "metadata": {},
   "source": [
    "# F - Load Model"
   ]
  },
  {
   "cell_type": "code",
   "execution_count": null,
   "metadata": {},
   "outputs": [],
   "source": [
    "clfDTL = joblib.load(\"model/dtl.pkl\")\n",
    "clfMLP = joblib.load(\"model/mlp.pkl\")"
   ]
  },
  {
   "cell_type": "markdown",
   "metadata": {},
   "source": [
    "# G - Create New Instance"
   ]
  },
  {
   "cell_type": "code",
   "execution_count": null,
   "metadata": {},
   "outputs": [],
   "source": [
    "instance = [[0.001, 0.001, 4.851, 1.751]]"
   ]
  },
  {
   "cell_type": "markdown",
   "metadata": {},
   "source": [
    "# H - Classify New Instance"
   ]
  },
  {
   "cell_type": "code",
   "execution_count": null,
   "metadata": {},
   "outputs": [],
   "source": [
    "DTLResult = bestDTL.predict(instance)\n",
    "print(iris.target_names[DTLResult])\n",
    "MLPResult = bestMLP.predict(instance)\n",
    "print(iris.target_names[MLPResult])"
   ]
  },
  {
   "cell_type": "markdown",
   "metadata": {},
   "source": [
    "# I - Features Analysis"
   ]
  },
  {
   "cell_type": "code",
   "execution_count": 16,
   "metadata": {},
   "outputs": [],
   "source": [
    "#Sea born\n",
    "#http://seaborn.pydata.org/tutorial/regression.html#regression-tutorial"
   ]
  }
 ],
 "metadata": {
  "kernelspec": {
   "display_name": "Python 3",
   "language": "python",
   "name": "python3"
  },
  "language_info": {
   "codemirror_mode": {
    "name": "ipython",
    "version": 3
   },
   "file_extension": ".py",
   "mimetype": "text/x-python",
   "name": "python",
   "nbconvert_exporter": "python",
   "pygments_lexer": "ipython3",
   "version": "3.6.2"
  }
 },
 "nbformat": 4,
 "nbformat_minor": 2
}
